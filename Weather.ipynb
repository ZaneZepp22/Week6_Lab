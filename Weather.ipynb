{
 "cells": [
  {
   "cell_type": "code",
   "execution_count": 3,
   "metadata": {},
   "outputs": [
    {
     "name": "stdin",
     "output_type": "stream",
     "text": [
      "What is your name? Zane\n",
      "What is the temperature outside? 100\n"
     ]
    },
    {
     "name": "stdout",
     "output_type": "stream",
     "text": [
      "Zane , you won't need a jacket today\n"
     ]
    }
   ],
   "source": [
    "#This program takes the temp and determines if you need a jacket\n",
    "name = input(\"What is your name?\")\n",
    "temp = int(input(\"What is the temperature outside?\"))\n",
    "if temp < 65:\n",
    "    print(name, \", you may need a jacket today\")\n",
    "else:\n",
    "    print(name, \", you won't need a jacket today\")"
   ]
  },
  {
   "cell_type": "code",
   "execution_count": null,
   "metadata": {},
   "outputs": [],
   "source": []
  }
 ],
 "metadata": {
  "kernelspec": {
   "display_name": "Python 3.7",
   "language": "python",
   "name": "python3"
  },
  "language_info": {
   "codemirror_mode": {
    "name": "ipython",
    "version": 3
   },
   "file_extension": ".py",
   "mimetype": "text/x-python",
   "name": "python",
   "nbconvert_exporter": "python",
   "pygments_lexer": "ipython3",
   "version": "3.7.0"
  }
 },
 "nbformat": 4,
 "nbformat_minor": 2
}
