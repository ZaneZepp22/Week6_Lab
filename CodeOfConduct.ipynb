{
 "cells": [
  {
   "cell_type": "markdown",
   "metadata": {},
   "source": [
    "Our pledge:\n",
    "In order to create a learning environment for kids and new programmers, we encourage particiaption from contributors keeping young children in mind. \n",
    "\n",
    "Our Standards:\n",
    "\n",
    "1. Using welcoming language\n",
    "2. Thinking of how young children and new programmers can learn from the code\n",
    "3. Being respectful of others' contributions\n",
    "4. THe use of foul languege is prohibited\n",
    "\n",
    "Our Responsibilities:\n",
    "\n",
    "1. Making projects from which young children and new programmers can learn more about coding. \n",
    "2. Being respectful of others'contributions and encouraging others\n",
    "3. Creating a learning environment\n",
    "\n",
    "Enforecment:\n",
    "If any of the above rules and regulations are violated, the contributor will be banned from working on the project. If the situation is very serious, they will be banned from working on any future projects as well.\n",
    "\n",
    "\n",
    "\n",
    "\n"
   ]
  },
  {
   "cell_type": "code",
   "execution_count": null,
   "metadata": {},
   "outputs": [],
   "source": []
  }
 ],
 "metadata": {
  "kernelspec": {
   "display_name": "Python 3.7",
   "language": "python",
   "name": "python3"
  },
  "language_info": {
   "codemirror_mode": {
    "name": "ipython",
    "version": 3
   },
   "file_extension": ".py",
   "mimetype": "text/x-python",
   "name": "python",
   "nbconvert_exporter": "python",
   "pygments_lexer": "ipython3",
   "version": "3.7.0"
  }
 },
 "nbformat": 4,
 "nbformat_minor": 2
}
